{
 "cells": [
  {
   "cell_type": "code",
   "execution_count": null,
   "id": "c4be9bce",
   "metadata": {},
   "outputs": [],
   "source": [
    "import numpy as np\n",
    "class linear_regression:\n",
    "\n",
    "def generator(self,n,m,sigma): #m rows and n+1 \n",
    "    x = np.random.rand(n, m+1) # INPUT data\n",
    "    e=np.random.normal(0,sigma,(n,1))# gaussian distribution\n",
    "    x[:,0]=1\n",
    "    beta=np.random.rand(m+1,1)\n",
    "    y=np.matmul(x,beta)+e\n",
    "        return x,y,beta\n",
    "\n",
    "def cost(self,pred_y,y,n):\n",
    "    cost=(1/(2*n))*np.sum((pred_y-y)**2)\n",
    "        return cost\n",
    "\n",
    "\n",
    "\n",
    "def gradient(self,x,y,pred_y,n):\n",
    "    gradient=(-2/n)*np.matmul((y-pred_y).T,x)\n",
    "        return gradient\n",
    "\n",
    "\n",
    "def regression(self,x,y,epochs,threshold):\n",
    "    learning_rate=0.001\n",
    "    n=x.shape[0]\n",
    "    m=x.shape[1]\n",
    "    weight=np.random.rand(m,1)*learning_rate\n",
    "    pre_cost=float('inf') #initial cost\n",
    "        for i in range(epochs):\n",
    "            pred_y = np.matmul(x,weight)\n",
    "            cost=self.cost(pred_y,y,n)\n",
    "            if abs(pre_cost-cost).all()<=threshold:\n",
    "                break\n",
    "    pre_cost=cost  #updating the cost value\n",
    "    gd=self.gradient(x,y,pred_y,n)# finding gradient\n",
    "    weight=weight-learning_rate*gd # updating weights\n",
    "        return pre_cost,weight\n",
    "\n",
    "    \n",
    "obj1=linear_regression()\n",
    "X,y,beta=obj1.generator(2,4,10) # ex standard deviation 1 \n",
    "finalcost,weight=obj1.regression(X,y,500,0.002) #500 iterations and 0.02 threshold\n",
    "print(finalcost)\n"
   ]
  }
 ],
 "metadata": {
  "kernelspec": {
   "display_name": "Python 3",
   "language": "python",
   "name": "python3"
  },
  "language_info": {
   "codemirror_mode": {
    "name": "ipython",
    "version": 3
   },
   "file_extension": ".py",
   "mimetype": "text/x-python",
   "name": "python",
   "nbconvert_exporter": "python",
   "pygments_lexer": "ipython3",
   "version": "3.8.8"
  }
 },
 "nbformat": 4,
 "nbformat_minor": 5
}
